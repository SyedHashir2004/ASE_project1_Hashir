{
  "cells": [
    {
      "cell_type": "code",
      "execution_count": 1,
      "metadata": {
        "id": "tvpeTC-cZGSs",
        "colab": {
          "base_uri": "https://localhost:8080/"
        },
        "outputId": "fa10c1a3-a31f-490a-afe9-a21f932ff216"
      },
      "outputs": [
        {
          "output_type": "stream",
          "name": "stdout",
          "text": [
            "Mounted at /content/drive\n"
          ]
        }
      ],
      "source": [
        "from google.colab import drive\n",
        "drive.mount('/content/drive')"
      ]
    },
    {
      "cell_type": "markdown",
      "source": [
        "1.Implementing Heart Attack using **classification algorithms**"
      ],
      "metadata": {
        "id": "NMR-YGUfir9O"
      }
    },
    {
      "cell_type": "code",
      "execution_count": 2,
      "metadata": {
        "colab": {
          "base_uri": "https://localhost:8080/"
        },
        "id": "hTHj1mz1lAvA",
        "outputId": "04ea4350-b875-49f5-a8bf-7d0cb6fdafb8"
      },
      "outputs": [
        {
          "output_type": "stream",
          "name": "stdout",
          "text": [
            "Predicted class: [1]\n",
            "Accuracy: 1.0\n"
          ]
        },
        {
          "output_type": "stream",
          "name": "stderr",
          "text": [
            "/usr/local/lib/python3.10/dist-packages/sklearn/base.py:439: UserWarning: X does not have valid feature names, but DecisionTreeClassifier was fitted with feature names\n",
            "  warnings.warn(\n"
          ]
        }
      ],
      "source": [
        "#decisiontree\n",
        "import numpy as np\n",
        "import matplotlib.pyplot as plt\n",
        "import pandas as pd\n",
        "from sklearn.tree import DecisionTreeClassifier\n",
        "from sklearn.model_selection import train_test_split\n",
        "from sklearn.metrics import accuracy_score\n",
        "data = pd.read_csv('/content/drive/MyDrive/Agile_SyedHashirAhmed/heart.csv')\n",
        "names = [\"age\", \"sex\", \"cp\", \"trestbps\", \"chol\", \"fbs\", \"restecg\", \"thalach\", \"exang\", \"oldpeak\", \"slope\", \"ca\", \"thal\", \"target\"]\n",
        "data.columns = names\n",
        "data = data.dropna()\n",
        "X = data.drop('target', axis=1)\n",
        "y = data['target']\n",
        "X_train, X_test, y_train, y_test = train_test_split(X, y, test_size=0.2, random_state=0)\n",
        "classifier = DecisionTreeClassifier(criterion='entropy', random_state=0, ccp_alpha=0)\n",
        "classifier.fit(X_train, y_train)\n",
        "X_marks = [[69, 0, 3, 133, 230, 1, 0, 150, 0, 2.3, 0, 0, 1]]\n",
        "prediction = classifier.predict(X_marks)\n",
        "print(\"Predicted class:\", prediction)\n",
        "y_pred = classifier.predict(X_test)\n",
        "accuracy = accuracy_score(y_test, y_pred)\n",
        "print(\"Accuracy:\", accuracy)\n",
        "\n"
      ]
    },
    {
      "cell_type": "code",
      "execution_count": 3,
      "metadata": {
        "colab": {
          "base_uri": "https://localhost:8080/"
        },
        "id": "2jHITavYU4QY",
        "outputId": "9bc7bd48-0cf4-451d-8eb8-e31bfdc2a441"
      },
      "outputs": [
        {
          "output_type": "stream",
          "name": "stdout",
          "text": [
            "prediction: [1 1 0 1 0 0 0 0 0 1 1 0 0 1 1 1 1 0 1 0 1 1 1 1 1 1 1 0 1 1 1 0 0 1 0 0 0\n",
            " 0 1 1 1 1 1 1 1 1 1 1 0 0 1 0 1 1 0 0 0 1 0 1 1 0 1 1 0 0 0 1 1 1 1 1 1 0\n",
            " 0 0 0 0 0 0 0 1 0 1 1 0 1 0 1 0 0 0 1 0 1 0 1 0 1 1 1 0 1 0 0 1 0 1 0 1 1\n",
            " 0 0 0 1 0 1 0 0 0 1 1 1 0 1 1 1 1 1 0 0 0 1 1 1 0 0 1 0 1 0 0 0 0 0 1 1 0\n",
            " 1 1 1 1 1 0 0 0 1 1 0 0 0 1 1 0 1 1 1 1 1 1 1 1 1 1 1 1 1 1 1 0 0 0 0 0 1\n",
            " 0 1 0 1 0 0 1 0 1 0 1 1 1 1 0 1 1 1 0 1 1 1 1 1 0 1 1 1 1 0 0 0 0 1 1 0 1\n",
            " 1 0 1 0 0 1 1 0 0 0 1 0 1 0 1 1 1 0 1 0 0 0 1 1 0 1 0 0 1 0 1 1 1 0 0 0 0\n",
            " 1 1 1 1 1 1 0 0 1 0 1 0 0 1 0 1 0 0]\n",
            "Accuracy: 0.851985559566787\n"
          ]
        }
      ],
      "source": [
        "#naive bayes\n",
        "import numpy as np\n",
        "import pandas as pd\n",
        "from sklearn.model_selection import train_test_split\n",
        "from sklearn.naive_bayes import GaussianNB\n",
        "from sklearn.metrics import accuracy_score\n",
        "data = pd.read_csv('/content/drive/MyDrive/Agile_SyedHashirAhmed/heart.csv')\n",
        "names = [\"age\", \"sex\", \"cp\", \"trestbps\", \"chol\", \"fbs\", \"restecg\", \"thalach\", \"exang\", \"oldpeak\", \"slope\", \"ca\", \"thal\", \"target\"]\n",
        "data.columns = names\n",
        "data = data.dropna()\n",
        "X = data.drop('target', axis=1)\n",
        "y = data['target']\n",
        "X_train, X_test, y_train, y_test = train_test_split(X, y, test_size=0.27, random_state=0)\n",
        "classifier = GaussianNB()\n",
        "classifier.fit(X_train, y_train)\n",
        "y_pred = classifier.predict(X_test)\n",
        "print(\"prediction:\",y_pred)\n",
        "accuracy = accuracy_score(y_test, y_pred)\n",
        "print(\"Accuracy:\", accuracy)\n"
      ]
    },
    {
      "cell_type": "code",
      "source": [
        "#knn\n",
        "import numpy as np\n",
        "import pandas as pd\n",
        "from sklearn.model_selection import train_test_split\n",
        "from sklearn.neighbors import KNeighborsClassifier\n",
        "from sklearn.metrics import accuracy_score\n",
        "data = pd.read_csv('/content/drive/MyDrive/Agile_SyedHashirAhmed/heart.csv')\n",
        "names = [\"age\", \"sex\", \"cp\", \"trestbps\", \"chol\", \"fbs\", \"restecg\", \"thalach\", \"exang\", \"oldpeak\", \"slope\", \"ca\", \"thal\", \"target\"]\n",
        "data.columns = names\n",
        "data = data.dropna()\n",
        "X = data.drop('target', axis=1)\n",
        "y = data['target']\n",
        "X_train, X_test, y_train, y_test = train_test_split(X, y, test_size=0.19, random_state=0)\n",
        "# Create a KNN classifier\n",
        "k = 2\n",
        "classifier = KNeighborsClassifier(n_neighbors=k)\n",
        "classifier.fit(X_train, y_train)\n",
        "y_pred = classifier.predict(X_test)\n",
        "accuracy = accuracy_score(y_test, y_pred)\n",
        "print(\"Accuracy:\", accuracy)\n"
      ],
      "metadata": {
        "colab": {
          "base_uri": "https://localhost:8080/"
        },
        "id": "MFeMDcBba4GQ",
        "outputId": "1714ed34-8557-40a5-c30b-fb296825d9c8"
      },
      "execution_count": 4,
      "outputs": [
        {
          "output_type": "stream",
          "name": "stdout",
          "text": [
            "Accuracy: 0.958974358974359\n"
          ]
        }
      ]
    },
    {
      "cell_type": "code",
      "source": [
        "import numpy as np\n",
        "import pandas as pd\n",
        "from sklearn.model_selection import train_test_split\n",
        "from sklearn.ensemble import RandomForestClassifier\n",
        "from sklearn.metrics import accuracy_score\n",
        "data = pd.read_csv('/content/drive/MyDrive/Agile_SyedHashirAhmed/heart.csv')\n",
        "names = [\"age\", \"sex\", \"cp\", \"trestbps\", \"chol\", \"fbs\", \"restecg\", \"thalach\", \"exang\", \"oldpeak\", \"slope\", \"ca\", \"thal\", \"target\"]\n",
        "data.columns = names\n",
        "data = data.dropna()\n",
        "X = data.drop('target', axis=1)\n",
        "y = data['target']\n",
        "X_train, X_test, y_train, y_test = train_test_split(X, y, test_size=0.2, random_state=0)\n",
        "n_estimators = 100\n",
        "classifier = RandomForestClassifier(n_estimators=n_estimators, random_state=0)\n",
        "classifier.fit(X_train, y_train)\n",
        "y_pred = classifier.predict(X_test)\n",
        "accuracy = accuracy_score(y_test, y_pred)\n",
        "print(\"Accuracy:\", accuracy)\n"
      ],
      "metadata": {
        "colab": {
          "base_uri": "https://localhost:8080/"
        },
        "id": "zExDoYKpc_lG",
        "outputId": "479c3e4e-1091-48c6-bcbd-30c0c56ded2b"
      },
      "execution_count": 5,
      "outputs": [
        {
          "output_type": "stream",
          "name": "stdout",
          "text": [
            "Accuracy: 1.0\n"
          ]
        }
      ]
    },
    {
      "cell_type": "code",
      "source": [
        "#svm\n",
        "import numpy as np\n",
        "import pandas as pd\n",
        "from sklearn.model_selection import train_test_split\n",
        "from sklearn.svm import SVC\n",
        "from sklearn.metrics import accuracy_score\n",
        "\n",
        "\n",
        "data = pd.read_csv('/content/drive/MyDrive/Agile_SyedHashirAhmed/heart.csv')\n",
        "names = [\"age\", \"sex\", \"cp\", \"trestbps\", \"chol\", \"fbs\", \"restecg\", \"thalach\", \"exang\", \"oldpeak\", \"slope\", \"ca\", \"thal\", \"target\"]\n",
        "data.columns = names\n",
        "data = data.dropna()\n",
        "X = data.drop('target', axis=1)\n",
        "y = data['target']\n",
        "X_train, X_test, y_train, y_test = train_test_split(X, y, test_size=0.4, random_state=0)\n",
        "classifier = SVC(kernel='linear', random_state=0)\n",
        "classifier.fit(X_train, y_train)\n",
        "y_pred = classifier.predict(X_test)\n",
        "accuracy = accuracy_score(y_test, y_pred)\n",
        "print(\"Accuracy:\", accuracy)\n"
      ],
      "metadata": {
        "colab": {
          "base_uri": "https://localhost:8080/"
        },
        "id": "CauhGxwtdYEG",
        "outputId": "911a7b80-3a87-4093-a327-d21f75a8bfeb"
      },
      "execution_count": 6,
      "outputs": [
        {
          "output_type": "stream",
          "name": "stdout",
          "text": [
            "Accuracy: 0.8682926829268293\n"
          ]
        }
      ]
    },
    {
      "cell_type": "code",
      "source": [
        "#linear regression\n",
        "import numpy as np\n",
        "import pandas as pd\n",
        "from sklearn.model_selection import train_test_split\n",
        "from sklearn.linear_model import LogisticRegression\n",
        "from sklearn.metrics import accuracy_score\n",
        "data = pd.read_csv('/content/drive/MyDrive/Agile_SyedHashirAhmed/heart.csv')\n",
        "names = [\"age\", \"sex\", \"cp\", \"trestbps\", \"chol\", \"fbs\", \"restecg\", \"thalach\", \"exang\", \"oldpeak\", \"slope\", \"ca\", \"thal\", \"target\"]\n",
        "data.columns = names\n",
        "data = data.dropna()\n",
        "X = data.drop('target', axis=1)\n",
        "y = data['target']\n",
        "X_train, X_test, y_train, y_test = train_test_split(X, y, test_size=0.35, random_state=0)\n",
        "classifier = LogisticRegression(max_iter=2000,random_state=0)\n",
        "classifier.fit(X_train, y_train)\n",
        "y_pred = classifier.predict(X_test)\n",
        "accuracy = accuracy_score(y_test, y_pred)\n",
        "print(\"Accuracy:\", accuracy)\n"
      ],
      "metadata": {
        "colab": {
          "base_uri": "https://localhost:8080/"
        },
        "id": "CarrPGY1ehN2",
        "outputId": "f99a9621-27aa-41ff-db3e-c76923a02f8a"
      },
      "execution_count": 7,
      "outputs": [
        {
          "output_type": "stream",
          "name": "stdout",
          "text": [
            "Accuracy: 0.8746518105849582\n"
          ]
        }
      ]
    },
    {
      "cell_type": "markdown",
      "source": [
        "2.Implement Heart attack using **Deeping learning**"
      ],
      "metadata": {
        "id": "QwqnMEjPfElK"
      }
    },
    {
      "cell_type": "code",
      "source": [
        "import numpy as np\n",
        "import pandas as pd\n",
        "from sklearn.model_selection import train_test_split\n",
        "from sklearn.preprocessing import StandardScaler\n",
        "from sklearn.metrics import accuracy_score\n",
        "from keras.models import Sequential\n",
        "from keras.layers import Dense\n",
        "data = pd.read_csv('/content/drive/MyDrive/Agile_SyedHashirAhmed/heart.csv')\n",
        "names = [\"age\", \"sex\", \"cp\", \"trestbps\", \"chol\", \"fbs\", \"restecg\", \"thalach\", \"exang\", \"oldpeak\", \"slope\", \"ca\", \"thal\", \"target\"]\n",
        "data.columns = names\n",
        "X = data.drop('target', axis=1)\n",
        "y = data['target']\n",
        "X_train, X_test, y_train, y_test = train_test_split(X, y, test_size=0.2, random_state=0)\n",
        "scaler = StandardScaler()\n",
        "X_train = scaler.fit_transform(X_train)\n",
        "X_test = scaler.transform(X_test)\n",
        "model = Sequential()\n",
        "model.add(Dense(64, input_dim=X_train.shape[1], activation='relu'))\n",
        "model.add(Dense(32, activation='relu'))\n",
        "model.add(Dense(1, activation='sigmoid'))\n",
        "model.compile(loss='binary_crossentropy', optimizer='adam', metrics=['accuracy'])\n",
        "model.fit(X_train, y_train, epochs=100, batch_size=32, verbose=1)\n",
        "y_pred = (model.predict(X_test) > 0.5).astype(int)\n",
        "accuracy = accuracy_score(y_test, y_pred)\n",
        "print(\"Accuracy:\", accuracy)\n"
      ],
      "metadata": {
        "colab": {
          "base_uri": "https://localhost:8080/"
        },
        "id": "h9vMF1W4gxuT",
        "outputId": "849a3c01-27d4-4e92-f4da-d67aacc0b970"
      },
      "execution_count": 8,
      "outputs": [
        {
          "output_type": "stream",
          "name": "stdout",
          "text": [
            "Epoch 1/100\n",
            "26/26 [==============================] - 1s 2ms/step - loss: 0.5863 - accuracy: 0.7159\n",
            "Epoch 2/100\n",
            "26/26 [==============================] - 0s 4ms/step - loss: 0.4351 - accuracy: 0.8329\n",
            "Epoch 3/100\n",
            "26/26 [==============================] - 0s 3ms/step - loss: 0.3711 - accuracy: 0.8512\n",
            "Epoch 4/100\n",
            "26/26 [==============================] - 0s 2ms/step - loss: 0.3387 - accuracy: 0.8646\n",
            "Epoch 5/100\n",
            "26/26 [==============================] - 0s 2ms/step - loss: 0.3188 - accuracy: 0.8671\n",
            "Epoch 6/100\n",
            "26/26 [==============================] - 0s 3ms/step - loss: 0.3005 - accuracy: 0.8720\n",
            "Epoch 7/100\n",
            "26/26 [==============================] - 0s 3ms/step - loss: 0.2842 - accuracy: 0.8829\n",
            "Epoch 8/100\n",
            "26/26 [==============================] - 0s 2ms/step - loss: 0.2716 - accuracy: 0.8878\n",
            "Epoch 9/100\n",
            "26/26 [==============================] - 0s 2ms/step - loss: 0.2574 - accuracy: 0.8939\n",
            "Epoch 10/100\n",
            "26/26 [==============================] - 0s 2ms/step - loss: 0.2433 - accuracy: 0.9037\n",
            "Epoch 11/100\n",
            "26/26 [==============================] - 0s 2ms/step - loss: 0.2299 - accuracy: 0.9061\n",
            "Epoch 12/100\n",
            "26/26 [==============================] - 0s 2ms/step - loss: 0.2198 - accuracy: 0.9195\n",
            "Epoch 13/100\n",
            "26/26 [==============================] - 0s 2ms/step - loss: 0.2083 - accuracy: 0.9159\n",
            "Epoch 14/100\n",
            "26/26 [==============================] - 0s 2ms/step - loss: 0.1967 - accuracy: 0.9317\n",
            "Epoch 15/100\n",
            "26/26 [==============================] - 0s 2ms/step - loss: 0.1849 - accuracy: 0.9366\n",
            "Epoch 16/100\n",
            "26/26 [==============================] - 0s 4ms/step - loss: 0.1730 - accuracy: 0.9500\n",
            "Epoch 17/100\n",
            "26/26 [==============================] - 0s 3ms/step - loss: 0.1640 - accuracy: 0.9573\n",
            "Epoch 18/100\n",
            "26/26 [==============================] - 0s 2ms/step - loss: 0.1535 - accuracy: 0.9598\n",
            "Epoch 19/100\n",
            "26/26 [==============================] - 0s 2ms/step - loss: 0.1429 - accuracy: 0.9646\n",
            "Epoch 20/100\n",
            "26/26 [==============================] - 0s 2ms/step - loss: 0.1327 - accuracy: 0.9756\n",
            "Epoch 21/100\n",
            "26/26 [==============================] - 0s 2ms/step - loss: 0.1247 - accuracy: 0.9768\n",
            "Epoch 22/100\n",
            "26/26 [==============================] - 0s 2ms/step - loss: 0.1161 - accuracy: 0.9793\n",
            "Epoch 23/100\n",
            "26/26 [==============================] - 0s 2ms/step - loss: 0.1081 - accuracy: 0.9841\n",
            "Epoch 24/100\n",
            "26/26 [==============================] - 0s 2ms/step - loss: 0.0997 - accuracy: 0.9854\n",
            "Epoch 25/100\n",
            "26/26 [==============================] - 0s 2ms/step - loss: 0.0928 - accuracy: 0.9817\n",
            "Epoch 26/100\n",
            "26/26 [==============================] - 0s 2ms/step - loss: 0.0888 - accuracy: 0.9878\n",
            "Epoch 27/100\n",
            "26/26 [==============================] - 0s 2ms/step - loss: 0.0805 - accuracy: 0.9890\n",
            "Epoch 28/100\n",
            "26/26 [==============================] - 0s 2ms/step - loss: 0.0741 - accuracy: 0.9939\n",
            "Epoch 29/100\n",
            "26/26 [==============================] - 0s 2ms/step - loss: 0.0693 - accuracy: 0.9915\n",
            "Epoch 30/100\n",
            "26/26 [==============================] - 0s 2ms/step - loss: 0.0655 - accuracy: 0.9939\n",
            "Epoch 31/100\n",
            "26/26 [==============================] - 0s 2ms/step - loss: 0.0608 - accuracy: 0.9927\n",
            "Epoch 32/100\n",
            "26/26 [==============================] - 0s 2ms/step - loss: 0.0568 - accuracy: 0.9939\n",
            "Epoch 33/100\n",
            "26/26 [==============================] - 0s 3ms/step - loss: 0.0519 - accuracy: 0.9939\n",
            "Epoch 34/100\n",
            "26/26 [==============================] - 0s 2ms/step - loss: 0.0486 - accuracy: 0.9939\n",
            "Epoch 35/100\n",
            "26/26 [==============================] - 0s 2ms/step - loss: 0.0451 - accuracy: 0.9939\n",
            "Epoch 36/100\n",
            "26/26 [==============================] - 0s 2ms/step - loss: 0.0431 - accuracy: 0.9939\n",
            "Epoch 37/100\n",
            "26/26 [==============================] - 0s 2ms/step - loss: 0.0399 - accuracy: 0.9939\n",
            "Epoch 38/100\n",
            "26/26 [==============================] - 0s 2ms/step - loss: 0.0364 - accuracy: 0.9963\n",
            "Epoch 39/100\n",
            "26/26 [==============================] - 0s 2ms/step - loss: 0.0335 - accuracy: 0.9951\n",
            "Epoch 40/100\n",
            "26/26 [==============================] - 0s 2ms/step - loss: 0.0310 - accuracy: 0.9963\n",
            "Epoch 41/100\n",
            "26/26 [==============================] - 0s 2ms/step - loss: 0.0289 - accuracy: 0.9963\n",
            "Epoch 42/100\n",
            "26/26 [==============================] - 0s 2ms/step - loss: 0.0263 - accuracy: 1.0000\n",
            "Epoch 43/100\n",
            "26/26 [==============================] - 0s 2ms/step - loss: 0.0254 - accuracy: 0.9976\n",
            "Epoch 44/100\n",
            "26/26 [==============================] - 0s 2ms/step - loss: 0.0229 - accuracy: 1.0000\n",
            "Epoch 45/100\n",
            "26/26 [==============================] - 0s 2ms/step - loss: 0.0214 - accuracy: 1.0000\n",
            "Epoch 46/100\n",
            "26/26 [==============================] - 0s 2ms/step - loss: 0.0199 - accuracy: 1.0000\n",
            "Epoch 47/100\n",
            "26/26 [==============================] - 0s 2ms/step - loss: 0.0189 - accuracy: 1.0000\n",
            "Epoch 48/100\n",
            "26/26 [==============================] - 0s 2ms/step - loss: 0.0177 - accuracy: 1.0000\n",
            "Epoch 49/100\n",
            "26/26 [==============================] - 0s 2ms/step - loss: 0.0164 - accuracy: 1.0000\n",
            "Epoch 50/100\n",
            "26/26 [==============================] - 0s 2ms/step - loss: 0.0155 - accuracy: 1.0000\n",
            "Epoch 51/100\n",
            "26/26 [==============================] - 0s 2ms/step - loss: 0.0142 - accuracy: 1.0000\n",
            "Epoch 52/100\n",
            "26/26 [==============================] - 0s 2ms/step - loss: 0.0134 - accuracy: 1.0000\n",
            "Epoch 53/100\n",
            "26/26 [==============================] - 0s 2ms/step - loss: 0.0129 - accuracy: 1.0000\n",
            "Epoch 54/100\n",
            "26/26 [==============================] - 0s 2ms/step - loss: 0.0119 - accuracy: 1.0000\n",
            "Epoch 55/100\n",
            "26/26 [==============================] - 0s 2ms/step - loss: 0.0111 - accuracy: 1.0000\n",
            "Epoch 56/100\n",
            "26/26 [==============================] - 0s 2ms/step - loss: 0.0107 - accuracy: 1.0000\n",
            "Epoch 57/100\n",
            "26/26 [==============================] - 0s 3ms/step - loss: 0.0101 - accuracy: 1.0000\n",
            "Epoch 58/100\n",
            "26/26 [==============================] - 0s 3ms/step - loss: 0.0097 - accuracy: 1.0000\n",
            "Epoch 59/100\n",
            "26/26 [==============================] - 0s 2ms/step - loss: 0.0087 - accuracy: 1.0000\n",
            "Epoch 60/100\n",
            "26/26 [==============================] - 0s 3ms/step - loss: 0.0084 - accuracy: 1.0000\n",
            "Epoch 61/100\n",
            "26/26 [==============================] - 0s 3ms/step - loss: 0.0080 - accuracy: 1.0000\n",
            "Epoch 62/100\n",
            "26/26 [==============================] - 0s 3ms/step - loss: 0.0076 - accuracy: 1.0000\n",
            "Epoch 63/100\n",
            "26/26 [==============================] - 0s 3ms/step - loss: 0.0074 - accuracy: 1.0000\n",
            "Epoch 64/100\n",
            "26/26 [==============================] - 0s 3ms/step - loss: 0.0073 - accuracy: 1.0000\n",
            "Epoch 65/100\n",
            "26/26 [==============================] - 0s 3ms/step - loss: 0.0066 - accuracy: 1.0000\n",
            "Epoch 66/100\n",
            "26/26 [==============================] - 0s 3ms/step - loss: 0.0063 - accuracy: 1.0000\n",
            "Epoch 67/100\n",
            "26/26 [==============================] - 0s 3ms/step - loss: 0.0060 - accuracy: 1.0000\n",
            "Epoch 68/100\n",
            "26/26 [==============================] - 0s 3ms/step - loss: 0.0057 - accuracy: 1.0000\n",
            "Epoch 69/100\n",
            "26/26 [==============================] - 0s 3ms/step - loss: 0.0054 - accuracy: 1.0000\n",
            "Epoch 70/100\n",
            "26/26 [==============================] - 0s 3ms/step - loss: 0.0053 - accuracy: 1.0000\n",
            "Epoch 71/100\n",
            "26/26 [==============================] - 0s 3ms/step - loss: 0.0050 - accuracy: 1.0000\n",
            "Epoch 72/100\n",
            "26/26 [==============================] - 0s 3ms/step - loss: 0.0048 - accuracy: 1.0000\n",
            "Epoch 73/100\n",
            "26/26 [==============================] - 0s 14ms/step - loss: 0.0046 - accuracy: 1.0000\n",
            "Epoch 74/100\n",
            "26/26 [==============================] - 0s 6ms/step - loss: 0.0043 - accuracy: 1.0000\n",
            "Epoch 75/100\n",
            "26/26 [==============================] - 0s 3ms/step - loss: 0.0042 - accuracy: 1.0000\n",
            "Epoch 76/100\n",
            "26/26 [==============================] - 0s 3ms/step - loss: 0.0040 - accuracy: 1.0000\n",
            "Epoch 77/100\n",
            "26/26 [==============================] - 0s 3ms/step - loss: 0.0040 - accuracy: 1.0000\n",
            "Epoch 78/100\n",
            "26/26 [==============================] - 0s 3ms/step - loss: 0.0037 - accuracy: 1.0000\n",
            "Epoch 79/100\n",
            "26/26 [==============================] - 0s 3ms/step - loss: 0.0035 - accuracy: 1.0000\n",
            "Epoch 80/100\n",
            "26/26 [==============================] - 0s 3ms/step - loss: 0.0033 - accuracy: 1.0000\n",
            "Epoch 81/100\n",
            "26/26 [==============================] - 0s 12ms/step - loss: 0.0032 - accuracy: 1.0000\n",
            "Epoch 82/100\n",
            "26/26 [==============================] - 0s 9ms/step - loss: 0.0032 - accuracy: 1.0000\n",
            "Epoch 83/100\n",
            "26/26 [==============================] - 0s 4ms/step - loss: 0.0030 - accuracy: 1.0000\n",
            "Epoch 84/100\n",
            "26/26 [==============================] - 0s 4ms/step - loss: 0.0029 - accuracy: 1.0000\n",
            "Epoch 85/100\n",
            "26/26 [==============================] - 0s 3ms/step - loss: 0.0028 - accuracy: 1.0000\n",
            "Epoch 86/100\n",
            "26/26 [==============================] - 0s 3ms/step - loss: 0.0027 - accuracy: 1.0000\n",
            "Epoch 87/100\n",
            "26/26 [==============================] - 0s 3ms/step - loss: 0.0026 - accuracy: 1.0000\n",
            "Epoch 88/100\n",
            "26/26 [==============================] - 0s 4ms/step - loss: 0.0025 - accuracy: 1.0000\n",
            "Epoch 89/100\n",
            "26/26 [==============================] - 0s 3ms/step - loss: 0.0024 - accuracy: 1.0000\n",
            "Epoch 90/100\n",
            "26/26 [==============================] - 0s 2ms/step - loss: 0.0023 - accuracy: 1.0000\n",
            "Epoch 91/100\n",
            "26/26 [==============================] - 0s 2ms/step - loss: 0.0023 - accuracy: 1.0000\n",
            "Epoch 92/100\n",
            "26/26 [==============================] - 0s 3ms/step - loss: 0.0022 - accuracy: 1.0000\n",
            "Epoch 93/100\n",
            "26/26 [==============================] - 0s 3ms/step - loss: 0.0021 - accuracy: 1.0000\n",
            "Epoch 94/100\n",
            "26/26 [==============================] - 0s 3ms/step - loss: 0.0020 - accuracy: 1.0000\n",
            "Epoch 95/100\n",
            "26/26 [==============================] - 0s 3ms/step - loss: 0.0019 - accuracy: 1.0000\n",
            "Epoch 96/100\n",
            "26/26 [==============================] - 0s 3ms/step - loss: 0.0019 - accuracy: 1.0000\n",
            "Epoch 97/100\n",
            "26/26 [==============================] - 0s 2ms/step - loss: 0.0018 - accuracy: 1.0000\n",
            "Epoch 98/100\n",
            "26/26 [==============================] - 0s 2ms/step - loss: 0.0018 - accuracy: 1.0000\n",
            "Epoch 99/100\n",
            "26/26 [==============================] - 0s 2ms/step - loss: 0.0017 - accuracy: 1.0000\n",
            "Epoch 100/100\n",
            "26/26 [==============================] - 0s 3ms/step - loss: 0.0017 - accuracy: 1.0000\n",
            "7/7 [==============================] - 0s 2ms/step\n",
            "Accuracy: 1.0\n"
          ]
        }
      ]
    },
    {
      "cell_type": "code",
      "source": [],
      "metadata": {
        "id": "yu2diAhpI8dU"
      },
      "execution_count": null,
      "outputs": []
    }
  ],
  "metadata": {
    "colab": {
      "provenance": []
    },
    "kernelspec": {
      "display_name": "Python 3",
      "name": "python3"
    },
    "language_info": {
      "name": "python"
    }
  },
  "nbformat": 4,
  "nbformat_minor": 0
}